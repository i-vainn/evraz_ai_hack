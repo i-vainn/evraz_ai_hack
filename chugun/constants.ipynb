{
 "cells": [
  {
   "cell_type": "code",
   "execution_count": 1,
   "metadata": {},
   "outputs": [],
   "source": [
    "import pandas as pd\n",
    "import numpy as np\n",
    "import matplotlib.pyplot as plt\n",
    "import seaborn as sns"
   ]
  },
  {
   "cell_type": "code",
   "execution_count": 2,
   "metadata": {},
   "outputs": [],
   "source": [
    "train = pd.read_csv('../data/chugun_train.csv').drop([1024, 2041])\n",
    "test = pd.read_csv('../data/chugun_test.csv')\n",
    "target = pd.read_csv('../data/target_train.csv').drop([1024, 2041])"
   ]
  },
  {
   "cell_type": "code",
   "execution_count": 4,
   "metadata": {},
   "outputs": [],
   "source": [
    "%load_ext autoreload"
   ]
  },
  {
   "cell_type": "code",
   "execution_count": 5,
   "metadata": {},
   "outputs": [],
   "source": [
    "%autoreload 2\n",
    "\n",
    "from features_chugun import process_data"
   ]
  },
  {
   "cell_type": "code",
   "execution_count": 6,
   "metadata": {},
   "outputs": [],
   "source": [
    "def metric(answers, user_csv):\n",
    "\n",
    "    delta_c = np.abs(np.array(answers['C']) - np.array(user_csv['C']))\n",
    "    hit_rate_c = np.int64(delta_c < 0.02)\n",
    "\n",
    "    delta_t = np.abs(np.array(answers['TST']) - np.array(user_csv['TST']))\n",
    "    hit_rate_t = np.int64(delta_t < 20)\n",
    "\n",
    "    N = np.size(answers['C'])\n",
    "    \n",
    "    return np.sum(hit_rate_c) / N, np.sum(hit_rate_t) / N, np.sum(hit_rate_c + hit_rate_t) / 2 / N"
   ]
  },
  {
   "cell_type": "code",
   "execution_count": 7,
   "metadata": {},
   "outputs": [],
   "source": [
    "data = process_data(train, test)[0]\n",
    "data = data.drop(['total_seconds', 'NPLV'], axis=1)\n",
    "# target = target.drop([1024, 2041])"
   ]
  },
  {
   "cell_type": "code",
   "execution_count": 8,
   "metadata": {},
   "outputs": [],
   "source": [
    "from collections import deque"
   ]
  },
  {
   "cell_type": "code",
   "execution_count": 22,
   "metadata": {},
   "outputs": [],
   "source": [
    "dq = deque()\n",
    "eps = 0.02\n",
    "best_len = 0\n",
    "best_const = 0\n",
    "for x in target.C.sort_values().values:\n",
    "    while len(dq) > 0 and x - dq[0] > 2 * eps:\n",
    "        dq.popleft()\n",
    "    dq.append(x)\n",
    "    if len(dq) > best_len:\n",
    "        best_len = len(dq)\n",
    "        best_const = x"
   ]
  },
  {
   "cell_type": "code",
   "execution_count": 26,
   "metadata": {},
   "outputs": [],
   "source": [
    "eps = 0.02\n",
    "best_c = 0\n",
    "best_c_score = 0\n",
    "\n",
    "for x in target.C.sort_values().values:\n",
    "    best_consts = pd.DataFrame([{'TST': 1590, 'C': x}])\n",
    "    c, t, tot = metric(target, best_consts)\n",
    "    if c > best_c_score:\n",
    "        best_c_score = c\n",
    "        best_c = x"
   ]
  },
  {
   "cell_type": "code",
   "execution_count": 38,
   "metadata": {},
   "outputs": [
    {
     "data": {
      "text/plain": [
       "0.051"
      ]
     },
     "execution_count": 38,
     "metadata": {},
     "output_type": "execute_result"
    }
   ],
   "source": [
    "best_c"
   ]
  },
  {
   "cell_type": "code",
   "execution_count": 34,
   "metadata": {},
   "outputs": [],
   "source": [
    "eps = 0.02\n",
    "best_t = 0\n",
    "best_t_score = 0\n",
    "\n",
    "for x in target.TST.sort_values().values:\n",
    "    best_consts = pd.DataFrame([{'TST': x, 'C': 0.051}])\n",
    "    c, t, tot = metric(target, best_consts)\n",
    "    if t > best_t_score:\n",
    "        best_t_score = t\n",
    "        best_t = x"
   ]
  },
  {
   "cell_type": "code",
   "execution_count": 36,
   "metadata": {},
   "outputs": [
    {
     "data": {
      "text/plain": [
       "1657"
      ]
     },
     "execution_count": 36,
     "metadata": {},
     "output_type": "execute_result"
    }
   ],
   "source": [
    "best_t"
   ]
  },
  {
   "cell_type": "code",
   "execution_count": 46,
   "metadata": {},
   "outputs": [
    {
     "data": {
      "text/plain": [
       "(0.6569626394953906, 0.4949053857350801, 0.5759340126152354)"
      ]
     },
     "execution_count": 46,
     "metadata": {},
     "output_type": "execute_result"
    }
   ],
   "source": [
    "best_consts = pd.DataFrame([{'TST': 1657, 'C': 0.051}])\n",
    "metric(target, best_consts)"
   ]
  },
  {
   "cell_type": "code",
   "execution_count": 39,
   "metadata": {},
   "outputs": [],
   "source": [
    "def make_submission(predictionC, predictionTST, name='constant'):\n",
    "    submission = pd.read_csv('../data/sample_submission.csv')\n",
    "    submission['C'] = predictionC\n",
    "    submission['TST'] = predictionTST\n",
    "    submission.to_csv(f'../data/submissions/{name}.csv', index=False)"
   ]
  },
  {
   "cell_type": "code",
   "execution_count": 41,
   "metadata": {},
   "outputs": [],
   "source": [
    "make_submission(best_c, 0, 'not_best_consts')"
   ]
  },
  {
   "cell_type": "code",
   "execution_count": 43,
   "metadata": {},
   "outputs": [
    {
     "data": {
      "text/plain": [
       "0.45641025641025634"
      ]
     },
     "execution_count": 43,
     "metadata": {},
     "output_type": "execute_result"
    }
   ],
   "source": [
    "(0.5025641025641026 - 0.2743589743589744) * 2 # test t constant score"
   ]
  },
  {
   "cell_type": "code",
   "execution_count": 44,
   "metadata": {},
   "outputs": [
    {
     "data": {
      "text/plain": [
       "0.5487179487179488"
      ]
     },
     "execution_count": 44,
     "metadata": {},
     "output_type": "execute_result"
    }
   ],
   "source": [
    "0.2743589743589744 * 2 # text c constant score"
   ]
  },
  {
   "cell_type": "code",
   "execution_count": 50,
   "metadata": {},
   "outputs": [],
   "source": [
    "submission = pd.read_csv('../data/submissions/two_ridge_boxcox.csv')\n",
    "submission['TST'] = best_t\n",
    "submission.to_csv(f'../data/submissions/ridgec_constt_boxcox.csv', index=False)"
   ]
  },
  {
   "cell_type": "code",
   "execution_count": null,
   "metadata": {},
   "outputs": [],
   "source": []
  }
 ],
 "metadata": {
  "kernelspec": {
   "display_name": "Python 3",
   "language": "python",
   "name": "python3"
  },
  "language_info": {
   "codemirror_mode": {
    "name": "ipython",
    "version": 3
   },
   "file_extension": ".py",
   "mimetype": "text/x-python",
   "name": "python",
   "nbconvert_exporter": "python",
   "pygments_lexer": "ipython3",
   "version": "3.8.5"
  }
 },
 "nbformat": 4,
 "nbformat_minor": 4
}
