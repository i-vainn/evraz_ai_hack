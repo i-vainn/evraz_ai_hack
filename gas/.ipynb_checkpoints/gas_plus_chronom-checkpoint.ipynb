{
 "cells": [
  {
   "cell_type": "code",
   "execution_count": 2,
   "id": "adolescent-madagascar",
   "metadata": {},
   "outputs": [],
   "source": [
    "import pandas as pd\n",
    "import numpy as np\n",
    "import matplotlib.pyplot as plt\n",
    "import seaborn as sns\n",
    "import matplotlib\n",
    "\n",
    "%matplotlib inline\n",
    "\n",
    "sns.set(style=\"darkgrid\")\n",
    "matplotlib.rcParams['figure.figsize'] = 20, 8"
   ]
  },
  {
   "cell_type": "code",
   "execution_count": 3,
   "id": "noble-tribute",
   "metadata": {},
   "outputs": [],
   "source": [
    "gas_train = pd.read_csv(\"data_task1/gas_train.csv\")"
   ]
  },
  {
   "cell_type": "code",
   "execution_count": 352,
   "id": "japanese-artwork",
   "metadata": {},
   "outputs": [],
   "source": [
    "chronom_train = pd.read_csv(\"data_task1/chronom_train.csv\")\n",
    "chronom_test = pd.read_csv(\"data_task1/chronom_test.csv\")\n",
    "plavki_train = pd.read_csv(\"data_task1/plavki_train.csv\")\n",
    "plavki_test = pd.read_csv(\"data_task1/plavki_test.csv\")"
   ]
  },
  {
   "cell_type": "code",
   "execution_count": 400,
   "id": "focal-graduate",
   "metadata": {},
   "outputs": [
    {
     "data": {
      "text/html": [
       "<div>\n",
       "<style scoped>\n",
       "    .dataframe tbody tr th:only-of-type {\n",
       "        vertical-align: middle;\n",
       "    }\n",
       "\n",
       "    .dataframe tbody tr th {\n",
       "        vertical-align: top;\n",
       "    }\n",
       "\n",
       "    .dataframe thead th {\n",
       "        text-align: right;\n",
       "    }\n",
       "</style>\n",
       "<table border=\"1\" class=\"dataframe\">\n",
       "  <thead>\n",
       "    <tr style=\"text-align: right;\">\n",
       "      <th></th>\n",
       "      <th>NPLV</th>\n",
       "      <th>plavka_VR_NACH</th>\n",
       "      <th>plavka_VR_KON</th>\n",
       "      <th>plavka_NMZ</th>\n",
       "      <th>plavka_NAPR_ZAD</th>\n",
       "      <th>plavka_STFUT</th>\n",
       "      <th>plavka_TIPE_FUR</th>\n",
       "      <th>plavka_ST_FURM</th>\n",
       "      <th>plavka_TIPE_GOL</th>\n",
       "      <th>plavka_ST_GOL</th>\n",
       "    </tr>\n",
       "  </thead>\n",
       "  <tbody>\n",
       "    <tr>\n",
       "      <th>0</th>\n",
       "      <td>512324</td>\n",
       "      <td>2021-05-05 17:41:21</td>\n",
       "      <td>2021-05-05 18:46:07</td>\n",
       "      <td>Ст3пс/Э</td>\n",
       "      <td>Изл</td>\n",
       "      <td>2</td>\n",
       "      <td>цилиндрическая</td>\n",
       "      <td>2</td>\n",
       "      <td>4-сопл х54</td>\n",
       "      <td>2</td>\n",
       "    </tr>\n",
       "    <tr>\n",
       "      <th>1</th>\n",
       "      <td>512327</td>\n",
       "      <td>2021-05-05 21:07:01</td>\n",
       "      <td>2021-05-05 22:02:26</td>\n",
       "      <td>C121TM/ЭТ</td>\n",
       "      <td>МНЛС</td>\n",
       "      <td>5</td>\n",
       "      <td>цилиндрическая</td>\n",
       "      <td>5</td>\n",
       "      <td>4-сопл х54</td>\n",
       "      <td>5</td>\n",
       "    </tr>\n",
       "    <tr>\n",
       "      <th>2</th>\n",
       "      <td>512328</td>\n",
       "      <td>2021-05-05 22:03:12</td>\n",
       "      <td>2021-05-05 23:39:32</td>\n",
       "      <td>Ст3пс/Э</td>\n",
       "      <td>Изл</td>\n",
       "      <td>6</td>\n",
       "      <td>цилиндрическая</td>\n",
       "      <td>6</td>\n",
       "      <td>4-сопл х54</td>\n",
       "      <td>6</td>\n",
       "    </tr>\n",
       "    <tr>\n",
       "      <th>3</th>\n",
       "      <td>512331</td>\n",
       "      <td>2021-05-06 02:21:46</td>\n",
       "      <td>2021-05-06 03:49:18</td>\n",
       "      <td>25Г2С</td>\n",
       "      <td>Изл</td>\n",
       "      <td>9</td>\n",
       "      <td>цилиндрическая</td>\n",
       "      <td>9</td>\n",
       "      <td>4-сопл х54</td>\n",
       "      <td>9</td>\n",
       "    </tr>\n",
       "    <tr>\n",
       "      <th>4</th>\n",
       "      <td>512333</td>\n",
       "      <td>2021-05-06 05:22:03</td>\n",
       "      <td>2021-05-06 06:25:51</td>\n",
       "      <td>C091TM.z01/ЭТ</td>\n",
       "      <td>МНЛС</td>\n",
       "      <td>11</td>\n",
       "      <td>цилиндрическая</td>\n",
       "      <td>11</td>\n",
       "      <td>4-сопл х54</td>\n",
       "      <td>11</td>\n",
       "    </tr>\n",
       "    <tr>\n",
       "      <th>...</th>\n",
       "      <td>...</td>\n",
       "      <td>...</td>\n",
       "      <td>...</td>\n",
       "      <td>...</td>\n",
       "      <td>...</td>\n",
       "      <td>...</td>\n",
       "      <td>...</td>\n",
       "      <td>...</td>\n",
       "      <td>...</td>\n",
       "      <td>...</td>\n",
       "    </tr>\n",
       "    <tr>\n",
       "      <th>775</th>\n",
       "      <td>513369</td>\n",
       "      <td>2021-06-29 17:08:33</td>\n",
       "      <td>2021-06-29 17:55:50</td>\n",
       "      <td>Ст3сп/Т</td>\n",
       "      <td>МНЛЗ</td>\n",
       "      <td>1047</td>\n",
       "      <td>цилиндрическая</td>\n",
       "      <td>2</td>\n",
       "      <td>601-5</td>\n",
       "      <td>2</td>\n",
       "    </tr>\n",
       "    <tr>\n",
       "      <th>776</th>\n",
       "      <td>513370</td>\n",
       "      <td>2021-06-29 18:03:00</td>\n",
       "      <td>2021-06-29 18:49:50</td>\n",
       "      <td>Ст3сп/Т</td>\n",
       "      <td>МНЛЗ</td>\n",
       "      <td>1048</td>\n",
       "      <td>цилиндрическая</td>\n",
       "      <td>3</td>\n",
       "      <td>601-5</td>\n",
       "      <td>3</td>\n",
       "    </tr>\n",
       "    <tr>\n",
       "      <th>777</th>\n",
       "      <td>513371</td>\n",
       "      <td>2021-06-29 18:55:21</td>\n",
       "      <td>2021-06-29 19:53:39</td>\n",
       "      <td>Ст3сп/Т</td>\n",
       "      <td>МНЛЗ</td>\n",
       "      <td>1049</td>\n",
       "      <td>цилиндрическая</td>\n",
       "      <td>4</td>\n",
       "      <td>601-5</td>\n",
       "      <td>4</td>\n",
       "    </tr>\n",
       "    <tr>\n",
       "      <th>778</th>\n",
       "      <td>513372</td>\n",
       "      <td>2021-06-29 20:18:40</td>\n",
       "      <td>2021-06-29 20:59:18</td>\n",
       "      <td>Ст3сп/Т</td>\n",
       "      <td>МНЛЗ</td>\n",
       "      <td>1050</td>\n",
       "      <td>цилиндрическая</td>\n",
       "      <td>5</td>\n",
       "      <td>601-5</td>\n",
       "      <td>5</td>\n",
       "    </tr>\n",
       "    <tr>\n",
       "      <th>779</th>\n",
       "      <td>513374</td>\n",
       "      <td>2021-06-29 22:43:02</td>\n",
       "      <td>2021-06-29 23:29:10</td>\n",
       "      <td>Ст3сп/Т</td>\n",
       "      <td>МНЛЗ</td>\n",
       "      <td>1052</td>\n",
       "      <td>цилиндрическая</td>\n",
       "      <td>7</td>\n",
       "      <td>601-5</td>\n",
       "      <td>7</td>\n",
       "    </tr>\n",
       "  </tbody>\n",
       "</table>\n",
       "<p>780 rows × 10 columns</p>\n",
       "</div>"
      ],
      "text/plain": [
       "       NPLV       plavka_VR_NACH        plavka_VR_KON       plavka_NMZ  \\\n",
       "0    512324  2021-05-05 17:41:21  2021-05-05 18:46:07  Ст3пс/Э           \n",
       "1    512327  2021-05-05 21:07:01  2021-05-05 22:02:26  C121TM/ЭТ         \n",
       "2    512328  2021-05-05 22:03:12  2021-05-05 23:39:32  Ст3пс/Э           \n",
       "3    512331  2021-05-06 02:21:46  2021-05-06 03:49:18  25Г2С             \n",
       "4    512333  2021-05-06 05:22:03  2021-05-06 06:25:51  C091TM.z01/ЭТ     \n",
       "..      ...                  ...                  ...              ...   \n",
       "775  513369  2021-06-29 17:08:33  2021-06-29 17:55:50  Ст3сп/Т           \n",
       "776  513370  2021-06-29 18:03:00  2021-06-29 18:49:50  Ст3сп/Т           \n",
       "777  513371  2021-06-29 18:55:21  2021-06-29 19:53:39  Ст3сп/Т           \n",
       "778  513372  2021-06-29 20:18:40  2021-06-29 20:59:18  Ст3сп/Т           \n",
       "779  513374  2021-06-29 22:43:02  2021-06-29 23:29:10  Ст3сп/Т           \n",
       "\n",
       "    plavka_NAPR_ZAD  plavka_STFUT plavka_TIPE_FUR  plavka_ST_FURM  \\\n",
       "0               Изл             2  цилиндрическая               2   \n",
       "1              МНЛС             5  цилиндрическая               5   \n",
       "2               Изл             6  цилиндрическая               6   \n",
       "3               Изл             9  цилиндрическая               9   \n",
       "4              МНЛС            11  цилиндрическая              11   \n",
       "..              ...           ...             ...             ...   \n",
       "775            МНЛЗ          1047  цилиндрическая               2   \n",
       "776            МНЛЗ          1048  цилиндрическая               3   \n",
       "777            МНЛЗ          1049  цилиндрическая               4   \n",
       "778            МНЛЗ          1050  цилиндрическая               5   \n",
       "779            МНЛЗ          1052  цилиндрическая               7   \n",
       "\n",
       "          plavka_TIPE_GOL  plavka_ST_GOL  \n",
       "0    4-сопл х54                        2  \n",
       "1    4-сопл х54                        5  \n",
       "2    4-сопл х54                        6  \n",
       "3    4-сопл х54                        9  \n",
       "4    4-сопл х54                       11  \n",
       "..                    ...            ...  \n",
       "775  601-5                             2  \n",
       "776  601-5                             3  \n",
       "777  601-5                             4  \n",
       "778  601-5                             5  \n",
       "779  601-5                             7  \n",
       "\n",
       "[780 rows x 10 columns]"
      ]
     },
     "execution_count": 400,
     "metadata": {},
     "output_type": "execute_result"
    }
   ],
   "source": [
    "plavki_test"
   ]
  },
  {
   "cell_type": "markdown",
   "id": "involved-allah",
   "metadata": {},
   "source": [
    "Нагрев лома\n",
    "Заливка чугуна\n",
    "Продувка\n",
    "Повалка"
   ]
  },
  {
   "cell_type": "code",
   "execution_count": 210,
   "id": "egyptian-amsterdam",
   "metadata": {},
   "outputs": [
    {
     "data": {
      "text/plain": [
       "Int64Index([510008, 510009, 510010, 510011, 510012, 510013, 510014, 510015,\n",
       "            510016, 510017,\n",
       "            ...\n",
       "            512313, 512314, 512315, 512316, 512317, 512318, 512319, 512320,\n",
       "            512321, 512322],\n",
       "           dtype='int64', name='NPLV', length=2063)"
      ]
     },
     "execution_count": 210,
     "metadata": {},
     "output_type": "execute_result"
    }
   ],
   "source": [
    "plavki_train.index.unique()"
   ]
  },
  {
   "cell_type": "code",
   "execution_count": 351,
   "id": "worse-certificate",
   "metadata": {},
   "outputs": [
    {
     "data": {
      "text/plain": [
       "'2021-04-26 16:22:37'"
      ]
     },
     "execution_count": 351,
     "metadata": {},
     "output_type": "execute_result"
    }
   ],
   "source": [
    "plavki_train[plavki_train.NPLV == 512321].iloc[0][\"plavka_VR_NACH\"]"
   ]
  },
  {
   "cell_type": "code",
   "execution_count": 401,
   "id": "initial-shopper",
   "metadata": {},
   "outputs": [
    {
     "data": {
      "text/html": [
       "<div>\n",
       "<style scoped>\n",
       "    .dataframe tbody tr th:only-of-type {\n",
       "        vertical-align: middle;\n",
       "    }\n",
       "\n",
       "    .dataframe tbody tr th {\n",
       "        vertical-align: top;\n",
       "    }\n",
       "\n",
       "    .dataframe thead th {\n",
       "        text-align: right;\n",
       "    }\n",
       "</style>\n",
       "<table border=\"1\" class=\"dataframe\">\n",
       "  <thead>\n",
       "    <tr style=\"text-align: right;\">\n",
       "      <th></th>\n",
       "      <th>Unnamed: 0</th>\n",
       "      <th>NPLV</th>\n",
       "      <th>TYPE_OPER</th>\n",
       "      <th>NOP</th>\n",
       "      <th>VR_NACH</th>\n",
       "      <th>VR_KON</th>\n",
       "      <th>O2</th>\n",
       "    </tr>\n",
       "  </thead>\n",
       "  <tbody>\n",
       "    <tr>\n",
       "      <th>0</th>\n",
       "      <td>0</td>\n",
       "      <td>512324</td>\n",
       "      <td>межпл.прост.</td>\n",
       "      <td>межпл. простой</td>\n",
       "      <td>2011-05-07 21:28:59</td>\n",
       "      <td>2011-05-07 21:33:38</td>\n",
       "      <td>NaN</td>\n",
       "    </tr>\n",
       "    <tr>\n",
       "      <th>1</th>\n",
       "      <td>1</td>\n",
       "      <td>512324</td>\n",
       "      <td>межпл.прост.</td>\n",
       "      <td>межпл. простой</td>\n",
       "      <td>2021-05-05 17:35:55</td>\n",
       "      <td>2021-05-05 17:41:21</td>\n",
       "      <td>NaN</td>\n",
       "    </tr>\n",
       "    <tr>\n",
       "      <th>2</th>\n",
       "      <td>2</td>\n",
       "      <td>512324</td>\n",
       "      <td>межпл.прост.</td>\n",
       "      <td>Осмотр конвертера</td>\n",
       "      <td>2021-05-05 17:36:07</td>\n",
       "      <td>2021-05-05 17:39:07</td>\n",
       "      <td>NaN</td>\n",
       "    </tr>\n",
       "    <tr>\n",
       "      <th>3</th>\n",
       "      <td>3</td>\n",
       "      <td>512324</td>\n",
       "      <td>межпл.прост.</td>\n",
       "      <td>Слив шлака</td>\n",
       "      <td>2021-05-05 17:39:07</td>\n",
       "      <td>2021-05-05 17:41:20</td>\n",
       "      <td>NaN</td>\n",
       "    </tr>\n",
       "    <tr>\n",
       "      <th>4</th>\n",
       "      <td>4</td>\n",
       "      <td>512324</td>\n",
       "      <td>опер</td>\n",
       "      <td>Завалка лома</td>\n",
       "      <td>2021-05-05 17:41:21</td>\n",
       "      <td>2021-05-05 17:43:16</td>\n",
       "      <td>NaN</td>\n",
       "    </tr>\n",
       "    <tr>\n",
       "      <th>...</th>\n",
       "      <td>...</td>\n",
       "      <td>...</td>\n",
       "      <td>...</td>\n",
       "      <td>...</td>\n",
       "      <td>...</td>\n",
       "      <td>...</td>\n",
       "      <td>...</td>\n",
       "    </tr>\n",
       "    <tr>\n",
       "      <th>7840</th>\n",
       "      <td>7840</td>\n",
       "      <td>513374</td>\n",
       "      <td>опер</td>\n",
       "      <td>Завалка лома</td>\n",
       "      <td>2021-06-29 22:43:02</td>\n",
       "      <td>2021-06-29 22:43:54</td>\n",
       "      <td>NaN</td>\n",
       "    </tr>\n",
       "    <tr>\n",
       "      <th>7841</th>\n",
       "      <td>7841</td>\n",
       "      <td>513374</td>\n",
       "      <td>опер</td>\n",
       "      <td>Нагрев лома</td>\n",
       "      <td>2021-06-29 22:43:54</td>\n",
       "      <td>2021-06-29 22:49:59</td>\n",
       "      <td>NaN</td>\n",
       "    </tr>\n",
       "    <tr>\n",
       "      <th>7842</th>\n",
       "      <td>7842</td>\n",
       "      <td>513374</td>\n",
       "      <td>опер</td>\n",
       "      <td>Нагрев лома</td>\n",
       "      <td>2021-06-29 22:43:54</td>\n",
       "      <td>2021-06-29 22:49:59</td>\n",
       "      <td>1797.0</td>\n",
       "    </tr>\n",
       "    <tr>\n",
       "      <th>7843</th>\n",
       "      <td>7843</td>\n",
       "      <td>513374</td>\n",
       "      <td>опер</td>\n",
       "      <td>Заливка чугуна</td>\n",
       "      <td>2021-06-29 22:50:07</td>\n",
       "      <td>2021-06-29 22:53:43</td>\n",
       "      <td>NaN</td>\n",
       "    </tr>\n",
       "    <tr>\n",
       "      <th>7844</th>\n",
       "      <td>7844</td>\n",
       "      <td>513374</td>\n",
       "      <td>опер</td>\n",
       "      <td>Продувка</td>\n",
       "      <td>2021-06-29 22:53:43</td>\n",
       "      <td>2021-06-29 23:13:47</td>\n",
       "      <td>NaN</td>\n",
       "    </tr>\n",
       "  </tbody>\n",
       "</table>\n",
       "<p>7845 rows × 7 columns</p>\n",
       "</div>"
      ],
      "text/plain": [
       "      Unnamed: 0    NPLV     TYPE_OPER                NOP  \\\n",
       "0              0  512324  межпл.прост.     межпл. простой   \n",
       "1              1  512324  межпл.прост.     межпл. простой   \n",
       "2              2  512324  межпл.прост.  Осмотр конвертера   \n",
       "3              3  512324  межпл.прост.         Слив шлака   \n",
       "4              4  512324          опер       Завалка лома   \n",
       "...          ...     ...           ...                ...   \n",
       "7840        7840  513374          опер       Завалка лома   \n",
       "7841        7841  513374          опер        Нагрев лома   \n",
       "7842        7842  513374          опер        Нагрев лома   \n",
       "7843        7843  513374          опер     Заливка чугуна   \n",
       "7844        7844  513374          опер           Продувка   \n",
       "\n",
       "                  VR_NACH               VR_KON      O2  \n",
       "0     2011-05-07 21:28:59  2011-05-07 21:33:38     NaN  \n",
       "1     2021-05-05 17:35:55  2021-05-05 17:41:21     NaN  \n",
       "2     2021-05-05 17:36:07  2021-05-05 17:39:07     NaN  \n",
       "3     2021-05-05 17:39:07  2021-05-05 17:41:20     NaN  \n",
       "4     2021-05-05 17:41:21  2021-05-05 17:43:16     NaN  \n",
       "...                   ...                  ...     ...  \n",
       "7840  2021-06-29 22:43:02  2021-06-29 22:43:54     NaN  \n",
       "7841  2021-06-29 22:43:54  2021-06-29 22:49:59     NaN  \n",
       "7842  2021-06-29 22:43:54  2021-06-29 22:49:59  1797.0  \n",
       "7843  2021-06-29 22:50:07  2021-06-29 22:53:43     NaN  \n",
       "7844  2021-06-29 22:53:43  2021-06-29 23:13:47     NaN  \n",
       "\n",
       "[7845 rows x 7 columns]"
      ]
     },
     "execution_count": 401,
     "metadata": {},
     "output_type": "execute_result"
    }
   ],
   "source": [
    "chronom_test"
   ]
  },
  {
   "cell_type": "code",
   "execution_count": 402,
   "id": "purple-contents",
   "metadata": {},
   "outputs": [],
   "source": [
    "chronom_test[\"PLAVKA_START\"] = None\n",
    "for nplv in chronom_test.NPLV.unique():\n",
    "    chronom_test.loc[chronom_test.NPLV == nplv, \"PLAVKA_START\"] = str(plavki_test[plavki_test.NPLV == nplv].iloc[0][\"plavka_VR_NACH\"])"
   ]
  },
  {
   "cell_type": "code",
   "execution_count": 403,
   "id": "approximate-domestic",
   "metadata": {},
   "outputs": [],
   "source": [
    "chronom_test[\"PLAVKA_START\"] = pd.to_datetime(chronom_test.PLAVKA_START)"
   ]
  },
  {
   "cell_type": "code",
   "execution_count": 404,
   "id": "piano-night",
   "metadata": {},
   "outputs": [],
   "source": [
    "chronom_test[\"VR_NACH\"] = chronom_test[\"VR_NACH\"].apply(pd.to_datetime).apply(lambda x: x.replace(year=2021) if x.year == 2011 else x)"
   ]
  },
  {
   "cell_type": "code",
   "execution_count": 405,
   "id": "fabulous-transition",
   "metadata": {},
   "outputs": [],
   "source": [
    "chronom_test[\"VR_KON\"] = chronom_test[\"VR_KON\"].apply(pd.to_datetime).apply(lambda x: x.replace(year=2021) if x.year == 2011 else x)"
   ]
  },
  {
   "cell_type": "code",
   "execution_count": 406,
   "id": "quiet-horror",
   "metadata": {},
   "outputs": [],
   "source": [
    "chronom_test[\"sec_nach_from_start\"] = (chronom_test[\"VR_NACH\"] - chronom_test[\"PLAVKA_START\"]).apply(lambda td : td.total_seconds())"
   ]
  },
  {
   "cell_type": "code",
   "execution_count": 407,
   "id": "outdoor-importance",
   "metadata": {},
   "outputs": [],
   "source": [
    "chronom_test[\"sec_kon_from_start\"] = (chronom_test[\"VR_KON\"] - chronom_test[\"PLAVKA_START\"]).apply(lambda td : td.total_seconds())"
   ]
  },
  {
   "cell_type": "code",
   "execution_count": 408,
   "id": "bibliographic-light",
   "metadata": {},
   "outputs": [],
   "source": [
    "upd_chronom = chronom_test[[\"NPLV\", \"NOP\", \"sec_nach_from_start\", \"sec_kon_from_start\"]].rename(columns={\"sec_nach_from_start\": \"start\", \"sec_kon_from_start\": \"end\"})"
   ]
  },
  {
   "cell_type": "code",
   "execution_count": 414,
   "id": "chief-nevada",
   "metadata": {},
   "outputs": [
    {
     "data": {
      "text/html": [
       "<div>\n",
       "<style scoped>\n",
       "    .dataframe tbody tr th:only-of-type {\n",
       "        vertical-align: middle;\n",
       "    }\n",
       "\n",
       "    .dataframe tbody tr th {\n",
       "        vertical-align: top;\n",
       "    }\n",
       "\n",
       "    .dataframe thead th {\n",
       "        text-align: right;\n",
       "    }\n",
       "</style>\n",
       "<table border=\"1\" class=\"dataframe\">\n",
       "  <thead>\n",
       "    <tr style=\"text-align: right;\">\n",
       "      <th></th>\n",
       "      <th>NPLV</th>\n",
       "      <th>NOP</th>\n",
       "      <th>start</th>\n",
       "      <th>end</th>\n",
       "    </tr>\n",
       "  </thead>\n",
       "  <tbody>\n",
       "    <tr>\n",
       "      <th>5</th>\n",
       "      <td>512324</td>\n",
       "      <td>Нагрев лома</td>\n",
       "      <td>115.0</td>\n",
       "      <td>480.0</td>\n",
       "    </tr>\n",
       "    <tr>\n",
       "      <th>8</th>\n",
       "      <td>512324</td>\n",
       "      <td>Заливка чугуна</td>\n",
       "      <td>1175.0</td>\n",
       "      <td>1318.0</td>\n",
       "    </tr>\n",
       "    <tr>\n",
       "      <th>9</th>\n",
       "      <td>512324</td>\n",
       "      <td>Продувка</td>\n",
       "      <td>1318.0</td>\n",
       "      <td>2581.0</td>\n",
       "    </tr>\n",
       "    <tr>\n",
       "      <th>15</th>\n",
       "      <td>512327</td>\n",
       "      <td>Заливка чугуна</td>\n",
       "      <td>114.0</td>\n",
       "      <td>692.0</td>\n",
       "    </tr>\n",
       "    <tr>\n",
       "      <th>16</th>\n",
       "      <td>512327</td>\n",
       "      <td>Продувка</td>\n",
       "      <td>692.0</td>\n",
       "      <td>1766.0</td>\n",
       "    </tr>\n",
       "    <tr>\n",
       "      <th>...</th>\n",
       "      <td>...</td>\n",
       "      <td>...</td>\n",
       "      <td>...</td>\n",
       "      <td>...</td>\n",
       "    </tr>\n",
       "    <tr>\n",
       "      <th>7833</th>\n",
       "      <td>513372</td>\n",
       "      <td>Заливка чугуна</td>\n",
       "      <td>105.0</td>\n",
       "      <td>279.0</td>\n",
       "    </tr>\n",
       "    <tr>\n",
       "      <th>7834</th>\n",
       "      <td>513372</td>\n",
       "      <td>Продувка</td>\n",
       "      <td>279.0</td>\n",
       "      <td>1614.0</td>\n",
       "    </tr>\n",
       "    <tr>\n",
       "      <th>7841</th>\n",
       "      <td>513374</td>\n",
       "      <td>Нагрев лома</td>\n",
       "      <td>52.0</td>\n",
       "      <td>417.0</td>\n",
       "    </tr>\n",
       "    <tr>\n",
       "      <th>7843</th>\n",
       "      <td>513374</td>\n",
       "      <td>Заливка чугуна</td>\n",
       "      <td>425.0</td>\n",
       "      <td>641.0</td>\n",
       "    </tr>\n",
       "    <tr>\n",
       "      <th>7844</th>\n",
       "      <td>513374</td>\n",
       "      <td>Продувка</td>\n",
       "      <td>641.0</td>\n",
       "      <td>1845.0</td>\n",
       "    </tr>\n",
       "  </tbody>\n",
       "</table>\n",
       "<p>1820 rows × 4 columns</p>\n",
       "</div>"
      ],
      "text/plain": [
       "        NPLV             NOP   start     end\n",
       "5     512324     Нагрев лома   115.0   480.0\n",
       "8     512324  Заливка чугуна  1175.0  1318.0\n",
       "9     512324        Продувка  1318.0  2581.0\n",
       "15    512327  Заливка чугуна   114.0   692.0\n",
       "16    512327        Продувка   692.0  1766.0\n",
       "...      ...             ...     ...     ...\n",
       "7833  513372  Заливка чугуна   105.0   279.0\n",
       "7834  513372        Продувка   279.0  1614.0\n",
       "7841  513374     Нагрев лома    52.0   417.0\n",
       "7843  513374  Заливка чугуна   425.0   641.0\n",
       "7844  513374        Продувка   641.0  1845.0\n",
       "\n",
       "[1820 rows x 4 columns]"
      ]
     },
     "execution_count": 414,
     "metadata": {},
     "output_type": "execute_result"
    }
   ],
   "source": [
    "upd_chronom"
   ]
  },
  {
   "cell_type": "code",
   "execution_count": 367,
   "id": "duplicate-seeker",
   "metadata": {},
   "outputs": [],
   "source": [
    "upd_chronom.to_csv(\"upd_train_chronom.csv\", index=False)"
   ]
  },
  {
   "cell_type": "code",
   "execution_count": 393,
   "id": "taken-printing",
   "metadata": {},
   "outputs": [],
   "source": [
    "ins_nop = {\n",
    "'Нагрев лома',\n",
    "'Заливка чугуна',\n",
    "'Продувка',\n",
    "'Повалка'\n",
    "}\n",
    "\n",
    "mapping_nop = {\n",
    "    \"Нагрев лома\": \"nagrev_loma\",\n",
    "    \"Заливка чугуна\": \"zalivka_chuguna\",\n",
    "    \"Продувка\": \"produvka\",\n",
    "    \"Повалка\": \"povalka\"\n",
    "}"
   ]
  },
  {
   "cell_type": "code",
   "execution_count": 411,
   "id": "coordinate-blair",
   "metadata": {},
   "outputs": [],
   "source": [
    "upd_chronom = upd_chronom[upd_chronom.NOP.isin(ins_nop)]"
   ]
  },
  {
   "cell_type": "code",
   "execution_count": 413,
   "id": "advisory-amount",
   "metadata": {},
   "outputs": [],
   "source": [
    "upd_chronom = upd_chronom.drop_duplicates()"
   ]
  },
  {
   "cell_type": "code",
   "execution_count": 415,
   "id": "sweet-plant",
   "metadata": {},
   "outputs": [],
   "source": [
    "nop1_tables = []\n",
    "for nop in ins_nop:\n",
    "    nop_table = upd_chronom[upd_chronom.NOP == nop].drop(columns=[\"NOP\"]).groupby(by=\"NPLV\").min().rename(columns=lambda name: mapping_nop[nop] + \"_\" + name)\n",
    "    nop1_tables.append(nop_table)\n",
    "    "
   ]
  },
  {
   "cell_type": "code",
   "execution_count": 417,
   "id": "whole-class",
   "metadata": {},
   "outputs": [],
   "source": [
    "pd.concat(nop1_tables, axis=1).to_csv(\"test_chronom_timing.csv\")"
   ]
  },
  {
   "cell_type": "code",
   "execution_count": 398,
   "id": "civic-newton",
   "metadata": {},
   "outputs": [],
   "source": [
    "pd.concat(nop1_tables, axis=1).to_csv(\"train_chronom_timing.csv\")"
   ]
  },
  {
   "cell_type": "code",
   "execution_count": 470,
   "id": "nonprofit-fancy",
   "metadata": {},
   "outputs": [],
   "source": [
    "test_chronom_timing = pd.read_csv(\"test_chronom_timing.csv\")\n",
    "train_chronom_timing = pd.read_csv(\"train_chronom_timing.csv\")"
   ]
  },
  {
   "cell_type": "code",
   "execution_count": 419,
   "id": "controlled-deputy",
   "metadata": {},
   "outputs": [
    {
     "name": "stdout",
     "output_type": "stream",
     "text": [
      "<class 'pandas.core.frame.DataFrame'>\n",
      "RangeIndex: 780 entries, 0 to 779\n",
      "Data columns (total 9 columns):\n",
      " #   Column                 Non-Null Count  Dtype  \n",
      "---  ------                 --------------  -----  \n",
      " 0   NPLV                   780 non-null    int64  \n",
      " 1   povalka_start          0 non-null      float64\n",
      " 2   povalka_end            0 non-null      float64\n",
      " 3   zalivka_chuguna_start  780 non-null    float64\n",
      " 4   zalivka_chuguna_end    780 non-null    float64\n",
      " 5   nagrev_loma_start      253 non-null    float64\n",
      " 6   nagrev_loma_end        253 non-null    float64\n",
      " 7   produvka_start         780 non-null    float64\n",
      " 8   produvka_end           780 non-null    float64\n",
      "dtypes: float64(8), int64(1)\n",
      "memory usage: 55.0 KB\n"
     ]
    }
   ],
   "source": [
    "test_chronom_timing.info()"
   ]
  },
  {
   "cell_type": "code",
   "execution_count": null,
   "id": "welcome-postage",
   "metadata": {},
   "outputs": [],
   "source": [
    "['povalka_start','povalka_end','nagrev_loma_start','nagrev_loma_end']"
   ]
  },
  {
   "cell_type": "code",
   "execution_count": 420,
   "id": "considered-tender",
   "metadata": {
    "scrolled": true
   },
   "outputs": [
    {
     "name": "stdout",
     "output_type": "stream",
     "text": [
      "<class 'pandas.core.frame.DataFrame'>\n",
      "RangeIndex: 2063 entries, 0 to 2062\n",
      "Data columns (total 9 columns):\n",
      " #   Column                 Non-Null Count  Dtype  \n",
      "---  ------                 --------------  -----  \n",
      " 0   NPLV                   2063 non-null   int64  \n",
      " 1   povalka_start          2063 non-null   float64\n",
      " 2   povalka_end            2063 non-null   float64\n",
      " 3   zalivka_chuguna_start  2063 non-null   float64\n",
      " 4   zalivka_chuguna_end    2063 non-null   float64\n",
      " 5   nagrev_loma_start      1766 non-null   float64\n",
      " 6   nagrev_loma_end        1766 non-null   float64\n",
      " 7   produvka_start         2063 non-null   float64\n",
      " 8   produvka_end           2063 non-null   float64\n",
      "dtypes: float64(8), int64(1)\n",
      "memory usage: 145.2 KB\n"
     ]
    }
   ],
   "source": [
    "train_chronom_timing.info()"
   ]
  },
  {
   "cell_type": "code",
   "execution_count": null,
   "id": "wired-nerve",
   "metadata": {},
   "outputs": [],
   "source": []
  },
  {
   "cell_type": "code",
   "execution_count": 468,
   "id": "normal-candidate",
   "metadata": {},
   "outputs": [],
   "source": [
    "gas_train = pd.read_csv(\"data_task1/gas_train.csv\")"
   ]
  },
  {
   "cell_type": "code",
   "execution_count": 469,
   "id": "enhanced-lesbian",
   "metadata": {},
   "outputs": [],
   "source": [
    "gas_test = pd.read_csv(\"data_task1/gas_test.csv\")"
   ]
  },
  {
   "cell_type": "code",
   "execution_count": 461,
   "id": "healthy-recipe",
   "metadata": {},
   "outputs": [],
   "source": [
    "from tqdm.notebook import tqdm"
   ]
  },
  {
   "cell_type": "code",
   "execution_count": 473,
   "id": "governmental-crisis",
   "metadata": {},
   "outputs": [],
   "source": [
    "train_chronom_timing.drop(columns=['povalka_start','povalka_end','nagrev_loma_start','nagrev_loma_end'], inplace=True)"
   ]
  },
  {
   "cell_type": "code",
   "execution_count": 477,
   "id": "robust-edition",
   "metadata": {},
   "outputs": [],
   "source": [
    "test_chronom_timing.drop(columns=['povalka_start','povalka_end','nagrev_loma_start','nagrev_loma_end'], inplace=True)"
   ]
  },
  {
   "cell_type": "code",
   "execution_count": 446,
   "id": "former-childhood",
   "metadata": {},
   "outputs": [],
   "source": [
    "ops = ['zalivka_chuguna', 'produvka']"
   ]
  },
  {
   "cell_type": "code",
   "execution_count": 476,
   "id": "essential-venture",
   "metadata": {},
   "outputs": [
    {
     "data": {
      "application/vnd.jupyter.widget-view+json": {
       "model_id": "03aa955064784f20918490091a4e294a",
       "version_major": 2,
       "version_minor": 0
      },
      "text/plain": [
       "  0%|          | 0/780 [00:00<?, ?it/s]"
      ]
     },
     "metadata": {},
     "output_type": "display_data"
    }
   ],
   "source": [
    "for i in tqdm(range(len(test_chronom_timing))):\n",
    "    for op in ops:\n",
    "        start =  int(test_chronom_timing.loc[i][op + \"_start\"])\n",
    "        end =  int(test_chronom_timing.loc[i][op + \"_end\"])\n",
    "        npvl = test_chronom_timing.loc[i][\"NPLV\"]\n",
    "        df = gas_test[gas_test[\"NPLV\"] == npvl].iloc[start:end].describe()\n",
    "        for stat in [\"mean\", \"std\", \"min\", \"25%\", \"50%\", \"75%\", \"max\"]:\n",
    "            for elem in [\"V\", \"T\", \"O2\", \"N2\", \"H2\", \"CO2\", \"CO\", \"AR\", \"T фурмы 1\", \"T фурмы 2\", \"O2_pressure\"]:\n",
    "                test_chronom_timing.loc[i, op + \"_\" + stat + \"_\" + elem] = df.loc[stat, elem]"
   ]
  },
  {
   "cell_type": "code",
   "execution_count": 471,
   "id": "cathedral-movement",
   "metadata": {},
   "outputs": [
    {
     "data": {
      "application/vnd.jupyter.widget-view+json": {
       "model_id": "c92b979343be4ab8938fcdb6253920c0",
       "version_major": 2,
       "version_minor": 0
      },
      "text/plain": [
       "  0%|          | 0/2063 [00:00<?, ?it/s]"
      ]
     },
     "metadata": {},
     "output_type": "display_data"
    }
   ],
   "source": [
    "for i in tqdm(range(len(train_chronom_timing))):\n",
    "    for op in ops:\n",
    "        start =  int(train_chronom_timing.loc[i][op + \"_start\"])\n",
    "        end =  int(train_chronom_timing.loc[i][op + \"_end\"])\n",
    "        npvl = train_chronom_timing.loc[i][\"NPLV\"]\n",
    "        df = gas_train[gas_train[\"NPLV\"] == npvl].iloc[start:end].describe()\n",
    "        for stat in [\"mean\", \"std\", \"min\", \"25%\", \"50%\", \"75%\", \"max\"]:\n",
    "            for elem in [\"V\", \"T\", \"O2\", \"N2\", \"H2\", \"CO2\", \"CO\", \"AR\", \"T фурмы 1\", \"T фурмы 2\", \"O2_pressure\"]:\n",
    "                train_chronom_timing.loc[i, op + \"_\" + stat + \"_\" + elem] = df.loc[stat, elem]"
   ]
  },
  {
   "cell_type": "code",
   "execution_count": 475,
   "id": "discrete-appeal",
   "metadata": {},
   "outputs": [],
   "source": [
    "train_chronom_timing.to_csv(\"train_timing_gas.csv\")"
   ]
  },
  {
   "cell_type": "code",
   "execution_count": 478,
   "id": "empirical-purple",
   "metadata": {},
   "outputs": [],
   "source": [
    "test_chronom_timing.to_csv(\"test_timing_gas.csv\")"
   ]
  }
 ],
 "metadata": {
  "kernelspec": {
   "display_name": "Python 3",
   "language": "python",
   "name": "python3"
  },
  "language_info": {
   "codemirror_mode": {
    "name": "ipython",
    "version": 3
   },
   "file_extension": ".py",
   "mimetype": "text/x-python",
   "name": "python",
   "nbconvert_exporter": "python",
   "pygments_lexer": "ipython3",
   "version": "3.8.2"
  }
 },
 "nbformat": 4,
 "nbformat_minor": 5
}
