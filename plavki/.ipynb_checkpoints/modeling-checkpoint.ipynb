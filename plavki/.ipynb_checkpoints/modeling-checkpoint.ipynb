{
 "cells": [
  {
   "cell_type": "code",
   "execution_count": 1,
   "metadata": {},
   "outputs": [],
   "source": [
    "import pandas as pd\n",
    "import numpy as np\n",
    "import matplotlib.pyplot as plt\n",
    "import seaborn as sns\n",
    "sns.set()\n",
    "\n",
    "pd.set_option('display.max_columns', None)\n",
    "\n",
    "%load_ext autoreload\n",
    "%autoreload 2"
   ]
  },
  {
   "cell_type": "code",
   "execution_count": 4,
   "metadata": {},
   "outputs": [
    {
     "name": "stderr",
     "output_type": "stream",
     "text": [
      "/home/data_sapiens/programs/projects/evraz/plavki/../lomproduv/features_lomproduv.py:30: RuntimeWarning: divide by zero encountered in true_divide\n",
      "  lom_train_transformed['ves_loma/ves_chuguna'] = lom_train_transformed['ves_loma'].values/chugun_train['VES'].values\n",
      "/home/data_sapiens/programs/projects/evraz/plavki/../lomproduv/features_lomproduv.py:36: RuntimeWarning: divide by zero encountered in true_divide\n",
      "  lom_test_transformed['ves_loma/ves_chuguna'] = lom_test_transformed['ves_loma'].values/chugun_test['VES'].values\n"
     ]
    }
   ],
   "source": [
    "target = pd.read_csv(\"../data/target_train.csv\")\n",
    "sample = pd.read_csv(\"../data/sample_submission.csv\")\n",
    "\n",
    "plavki_train = pd.read_csv(\"../data/plavki_train.csv\")\n",
    "plavki_test = pd.read_csv(\"../data/plavki_test.csv\")\n",
    "\n",
    "gas_train = pd.read_csv(\"../data/gas_train.csv\")\n",
    "gas_test = pd.read_csv(\"../data/gas_test.csv\")\n",
    "\n",
    "chugun_train = pd.read_csv(\"../data/chugun_train.csv\")\n",
    "chugun_test = pd.read_csv(\"../data/chugun_test.csv\")\n",
    "\n",
    "lom_train = pd.read_csv(\"../data/lom_train.csv\")\n",
    "lom_test = pd.read_csv(\"../data/lom_test.csv\")\n",
    "\n",
    "produv_train = pd.read_csv(\"../data/produv_train.csv\")\n",
    "produv_test = pd.read_csv(\"../data/produv_test.csv\")\n",
    "\n",
    "chronom_train = pd.read_csv(\"../data/chronom_train.csv\")\n",
    "chronom_test = pd.read_csv(\"../data/chronom_test.csv\")\n",
    "\n",
    "from pipeline import merge_data\n",
    "\n",
    "params = {\n",
    "    \"chugun\": {},\n",
    "    \"plavki\": {\"bow_count\": 10}\n",
    "}\n",
    "\n",
    "train, test, y, num_features, cat_features = merge_data(\n",
    "    sample, target, plavki_train, plavki_test, gas_train, gas_test, chugun_train, chugun_test, \n",
    "    lom_train, lom_test, produv_train, produv_test, chronom_train, chronom_test, params\n",
    ")"
   ]
  },
  {
   "cell_type": "code",
   "execution_count": 21,
   "metadata": {},
   "outputs": [],
   "source": [
    "from sklearn.model_selection import KFold\n",
    "from tqdm.auto import tqdm, trange\n",
    "\n",
    "def metric(c_true, tst_true, c_pred, tst_pred):\n",
    "    delta_c = np.abs(c_true - c_pred)\n",
    "    hit_rate_c = np.int64(delta_c < 0.02)\n",
    "\n",
    "    delta_t = np.abs(tst_true - tst_pred)\n",
    "    hit_rate_t = np.int64(delta_t < 20)\n",
    "\n",
    "    N = c_pred.shape[0]    \n",
    "    return np.sum(hit_rate_c) / N, np.sum(hit_rate_t) / N, np.sum(hit_rate_c + hit_rate_t) / 2 / N\n",
    "\n",
    "def pipeline(model_c, model_tst, train, test, y, sample, n_splits=10):\n",
    "    kf = KFold(n_splits=n_splits, shuffle=True)\n",
    "\n",
    "    sample[\"C\"] = 0\n",
    "    sample[\"TST\"] = 0\n",
    "    \n",
    "    res_c, res_t, res = [], [], []\n",
    "    for train_idx, test_idx in tqdm(kf.split(train)):\n",
    "        cur_train = train[train_idx]\n",
    "        cur_eval = train[test_idx]\n",
    "\n",
    "        cur_train_y = y[train_idx]\n",
    "        cur_eval_y = y[test_idx]\n",
    "\n",
    "        model_c.fit(cur_train, cur_train_y[\"C\"])\n",
    "        model_tst.fit(cur_train, cur_train_y[\"TST\"])\n",
    "        \n",
    "        eval_pred_c = model_c.predict(cur_eval)\n",
    "        eval_pred_tst = model_tst.predict(cur_eval)\n",
    "    \n",
    "        sample[\"C\"] += model_c.predict(cur_eval) / n_splits\n",
    "        sample[\"TST\"] += model_tst.predict(cur_eval) / n_splits\n",
    "        \n",
    "        hit_rate_c, hit_rate_t, hit_rate = metric(cur_eval_y[\"C\"], cur_eval_y[\"TST\"], eval_pred_c, eval_pred_tst)\n",
    "        res_c.append(hit_rate_c)\n",
    "        res_t.append(hit_rate_t)\n",
    "        res.append(hit_rate)\n",
    "    \n",
    "    res_c = np.array(res_c)\n",
    "    res_t = np.array(res_t)\n",
    "    res = np.array(res)\n",
    "    print(f\"Carbon score: {res_c.mean()} ± {res_c.std()}\")\n",
    "    print(f\"Temperature score: {res_tst.mean()} ± {res_tst.std()}\")    \n",
    "    print(f\"Overall score: {res.mean()} ± {res.std()}\") \n",
    "    \n",
    "    return sample"
   ]
  }
 ],
 "metadata": {
  "kernelspec": {
   "display_name": "Python 3 (ipykernel)",
   "language": "python",
   "name": "python3"
  },
  "language_info": {
   "codemirror_mode": {
    "name": "ipython",
    "version": 3
   },
   "file_extension": ".py",
   "mimetype": "text/x-python",
   "name": "python",
   "nbconvert_exporter": "python",
   "pygments_lexer": "ipython3",
   "version": "3.8.10"
  }
 },
 "nbformat": 4,
 "nbformat_minor": 4
}
