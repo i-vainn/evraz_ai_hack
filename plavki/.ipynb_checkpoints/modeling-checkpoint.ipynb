{
 "cells": [
  {
   "cell_type": "code",
   "execution_count": 1,
   "metadata": {},
   "outputs": [],
   "source": [
    "import pandas as pd\n",
    "import numpy as np\n",
    "import matplotlib.pyplot as plt\n",
    "import seaborn as sns\n",
    "sns.set()\n",
    "\n",
    "pd.set_option('display.max_columns', None)\n",
    "\n",
    "%load_ext autoreload\n",
    "%autoreload 2"
   ]
  },
  {
   "cell_type": "code",
   "execution_count": 2,
   "metadata": {},
   "outputs": [
    {
     "name": "stderr",
     "output_type": "stream",
     "text": [
      "/home/data_sapiens/programs/projects/evraz/plavki/../lomproduv/features_lomproduv.py:30: RuntimeWarning: divide by zero encountered in true_divide\n",
      "  lom_train_transformed['ves_loma/ves_chuguna'] = lom_train_transformed['ves_loma'].values/chugun_train['VES'].values\n",
      "/home/data_sapiens/programs/projects/evraz/plavki/../lomproduv/features_lomproduv.py:36: RuntimeWarning: divide by zero encountered in true_divide\n",
      "  lom_test_transformed['ves_loma/ves_chuguna'] = lom_test_transformed['ves_loma'].values/chugun_test['VES'].values\n"
     ]
    }
   ],
   "source": [
    "target = pd.read_csv(\"../data/target_train.csv\")\n",
    "sample = pd.read_csv(\"../data/sample_submission.csv\")\n",
    "\n",
    "plavki_train = pd.read_csv(\"../data/plavki_train.csv\")\n",
    "plavki_test = pd.read_csv(\"../data/plavki_test.csv\")\n",
    "\n",
    "gas_train = pd.read_csv(\"../data/gas_train.csv\")\n",
    "gas_test = pd.read_csv(\"../data/gas_test.csv\")\n",
    "\n",
    "chugun_train = pd.read_csv(\"../data/chugun_train.csv\")\n",
    "chugun_test = pd.read_csv(\"../data/chugun_test.csv\")\n",
    "\n",
    "lom_train = pd.read_csv(\"../data/lom_train.csv\")\n",
    "lom_test = pd.read_csv(\"../data/lom_test.csv\")\n",
    "\n",
    "produv_train = pd.read_csv(\"../data/produv_train.csv\")\n",
    "produv_test = pd.read_csv(\"../data/produv_test.csv\")\n",
    "\n",
    "chronom_train = pd.read_csv(\"../data/chronom_train.csv\")\n",
    "chronom_test = pd.read_csv(\"../data/chronom_test.csv\")\n",
    "\n",
    "sip_train = pd.read_csv(\"../data/sip_train.csv\")\n",
    "sip_test = pd.read_csv(\"../data/sip_test.csv\")\n",
    "\n",
    "from pipeline import merge_data\n",
    "\n",
    "params = {\n",
    "    \"chugun\": {},\n",
    "    \"plavki\": {\"bow_count\": 10}\n",
    "}\n",
    "\n",
    "train, test, y, num_features, cat_features = merge_data(\n",
    "    sample, target, plavki_train, plavki_test, gas_train, gas_test, chugun_train, chugun_test, \n",
    "    lom_train, lom_test, produv_train, produv_test, chronom_train, chronom_test, \n",
    "    sip_train, sip_test, params\n",
    ")"
   ]
  },
  {
   "cell_type": "code",
   "execution_count": 10,
   "metadata": {},
   "outputs": [],
   "source": [
    "from sklearn.model_selection import KFold, TimeSeriesSplit\n",
    "from tqdm.auto import tqdm, trange\n",
    "\n",
    "def metric(c_true, tst_true, c_pred, tst_pred):\n",
    "    delta_c = np.abs(c_true - c_pred)\n",
    "    hit_rate_c = np.int64(delta_c < 0.02)\n",
    "\n",
    "    delta_t = np.abs(tst_true - tst_pred)\n",
    "    hit_rate_t = np.int64(delta_t < 20)\n",
    "\n",
    "    N = c_pred.shape[0]    \n",
    "    return np.sum(hit_rate_c) / N, np.sum(hit_rate_t) / N, np.sum(hit_rate_c + hit_rate_t) / 2 / N\n",
    "\n",
    "def pipeline(model_c, model_tst, train_c, test_c, train_tst, test_tst, y, sample, n_splits=10):\n",
    "    kf = KFold(n_splits=n_splits, shuffle=True)\n",
    "\n",
    "    sample[\"C\"] = 0\n",
    "    sample[\"TST\"] = 0\n",
    "    \n",
    "    res_c, res_t, res = [], [], []\n",
    "    for train_idx, test_idx in tqdm(kf.split(train_c), total=n_splits):\n",
    "        cur_train_c = train_c[train_idx]\n",
    "        cur_eval_c = train_c[test_idx]        \n",
    "\n",
    "        cur_train_tst = train_tst[train_idx]\n",
    "        cur_eval_tst = train_tst[test_idx]\n",
    "\n",
    "        cur_train_y = y.iloc[train_idx]\n",
    "        cur_eval_y = y.iloc[test_idx]\n",
    "\n",
    "        model_c.fit(cur_train_c, cur_train_y[\"C\"])\n",
    "        model_tst.fit(cur_train_tst, cur_train_y[\"TST\"])\n",
    "        \n",
    "        eval_pred_c = model_c.predict(cur_eval_c)\n",
    "        eval_pred_tst = model_tst.predict(cur_eval_tst)\n",
    "    \n",
    "        sample[\"C\"] += model_c.predict(test_c) / n_splits\n",
    "        sample[\"TST\"] += model_tst.predict(test_tst) / n_splits\n",
    "        \n",
    "        hit_rate_c, hit_rate_t, hit_rate = metric(cur_eval_y[\"C\"], cur_eval_y[\"TST\"], eval_pred_c, eval_pred_tst)\n",
    "        res_c.append(hit_rate_c)\n",
    "        res_t.append(hit_rate_t)\n",
    "        res.append(hit_rate)\n",
    "    \n",
    "    res_c = np.array(res_c)\n",
    "    res_t = np.array(res_t)\n",
    "    res = np.array(res)\n",
    "    print(f\"Carbon score: {res_c.mean()} ± {res_c.std()}\")\n",
    "    print(f\"Temperature score: {res_t.mean()} ± {res_t.std()}\")    \n",
    "    print(f\"Overall score: {res.mean()} ± {res.std()}\") \n",
    "    \n",
    "    sample[\"C\"] = sample[\"C\"].clip(0, 1)\n",
    "    \n",
    "    return sample"
   ]
  },
  {
   "cell_type": "code",
   "execution_count": 5,
   "metadata": {},
   "outputs": [],
   "source": [
    "from pipeline import transform_for_linear\n",
    "\n",
    "train_scaled, test_scaled = transform_for_linear(train, num_features, cat_features, test)"
   ]
  },
  {
   "cell_type": "code",
   "execution_count": 6,
   "metadata": {},
   "outputs": [],
   "source": [
    "from sklearn.ensemble import RandomForestRegressor\n",
    "from sklearn.linear_model import Ridge, Lasso\n",
    "from sklearn.svm import SVR\n",
    "\n",
    "from xgboost import XGBRegressor"
   ]
  },
  {
   "cell_type": "code",
   "execution_count": 11,
   "metadata": {},
   "outputs": [
    {
     "data": {
      "application/vnd.jupyter.widget-view+json": {
       "model_id": "dc7c153e6a6d4c379b409124af5d1c8f",
       "version_major": 2,
       "version_minor": 0
      },
      "text/plain": [
       "  0%|          | 0/20 [00:00<?, ?it/s]"
      ]
     },
     "metadata": {},
     "output_type": "display_data"
    },
    {
     "name": "stdout",
     "output_type": "stream",
     "text": [
      "Carbon score: 0.6560072815533982 ± 0.04387345736163744\n",
      "Temperature score: 0.6414395070948469 ± 0.04961485763430513\n",
      "Overall score: 0.6487233943241225 ± 0.04153974605676401\n"
     ]
    }
   ],
   "source": [
    "model_c = XGBRegressor(n_estimators=20, max_depth=7)\n",
    "model_tst = XGBRegressor(n_estimators=20, max_depth=7)\n",
    "\n",
    "res = pipeline(model_c, model_tst, train.values, test.values, train.values, test.values, y, sample, n_splits=20)"
   ]
  },
  {
   "cell_type": "code",
   "execution_count": 15,
   "metadata": {},
   "outputs": [
    {
     "data": {
      "text/plain": [
       "[(0.4214841, 'truncated_NMZ'),\n",
       " (0.052253712, 'gas_sum_volume_O2'),\n",
       " (0.042881526, 'VES'),\n",
       " (0.038848143, 'total_operations_опер_0'),\n",
       " (0.036443055, 'min_ratio'),\n",
       " (0.028542645, 'total_duration_опер_0'),\n",
       " (0.026982587, 'SI'),\n",
       " (0.021258013, 'unique_ratio'),\n",
       " (0.020968104, 'gas_sum_volume_CO2'),\n",
       " (0.015138853, 'gas_mean_volume_O2'),\n",
       " (0.014687493, 'P'),\n",
       " (0.011710698, 'O2_опер_0'),\n",
       " (0.011186087, 'durationproduv_'),\n",
       " (0.011016624, 'gas_std_volume_AR'),\n",
       " (0.010167464, 'max_duration_опер_0'),\n",
       " (0.009297233, 'TI'),\n",
       " (0.008904938, 'gas_std_V'),\n",
       " (0.008696275, 'gas_mean_O2_pressure'),\n",
       " (0.008431477, 'total_operations_межпл.прост._1'),\n",
       " (0.008256948, 'dayofmonth')]"
      ]
     },
     "execution_count": 15,
     "metadata": {},
     "output_type": "execute_result"
    }
   ],
   "source": [
    "sorted(zip(model_c.feature_importances_, train.columns), reverse=True)[:20]"
   ]
  },
  {
   "cell_type": "code",
   "execution_count": 56,
   "metadata": {},
   "outputs": [],
   "source": [
    "res.to_csv(\"forest.csv\", index=False)"
   ]
  }
 ],
 "metadata": {
  "kernelspec": {
   "display_name": "Python 3 (ipykernel)",
   "language": "python",
   "name": "python3"
  },
  "language_info": {
   "codemirror_mode": {
    "name": "ipython",
    "version": 3
   },
   "file_extension": ".py",
   "mimetype": "text/x-python",
   "name": "python",
   "nbconvert_exporter": "python",
   "pygments_lexer": "ipython3",
   "version": "3.8.10"
  }
 },
 "nbformat": 4,
 "nbformat_minor": 4
}
