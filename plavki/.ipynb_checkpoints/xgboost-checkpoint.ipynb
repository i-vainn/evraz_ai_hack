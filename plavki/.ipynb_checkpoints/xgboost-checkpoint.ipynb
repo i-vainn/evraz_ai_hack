{
 "cells": [
  {
   "cell_type": "code",
   "execution_count": 8,
   "metadata": {},
   "outputs": [],
   "source": [
    "import pandas as pd\n",
    "import numpy as np\n",
    "import matplotlib.pyplot as plt\n",
    "import seaborn as sns\n",
    "sns.set()\n",
    "\n",
    "pd.set_option('display.max_columns', None)"
   ]
  },
  {
   "cell_type": "code",
   "execution_count": 2,
   "metadata": {},
   "outputs": [],
   "source": [
    "%load_ext autoreload\n",
    "%autoreload 2"
   ]
  },
  {
   "cell_type": "code",
   "execution_count": 3,
   "metadata": {},
   "outputs": [],
   "source": [
    "target = pd.read_csv(\"../data/target_train.csv\")\n",
    "plavki_train = pd.read_csv(\"../data/plavki_train.csv\")\n",
    "plavki_test = pd.read_csv(\"../data/plavki_test.csv\")"
   ]
  },
  {
   "cell_type": "code",
   "execution_count": 4,
   "metadata": {},
   "outputs": [],
   "source": [
    "from plavki import process_plavki"
   ]
  },
  {
   "cell_type": "code",
   "execution_count": 39,
   "metadata": {},
   "outputs": [],
   "source": [
    "data, num_features, cat_features = process_plavki(plavki_train, plavki_test, bow_count=20)"
   ]
  },
  {
   "cell_type": "code",
   "execution_count": 40,
   "metadata": {},
   "outputs": [
    {
     "data": {
      "text/html": [
       "<div>\n",
       "<style scoped>\n",
       "    .dataframe tbody tr th:only-of-type {\n",
       "        vertical-align: middle;\n",
       "    }\n",
       "\n",
       "    .dataframe tbody tr th {\n",
       "        vertical-align: top;\n",
       "    }\n",
       "\n",
       "    .dataframe thead th {\n",
       "        text-align: right;\n",
       "    }\n",
       "</style>\n",
       "<table border=\"1\" class=\"dataframe\">\n",
       "  <thead>\n",
       "    <tr style=\"text-align: right;\">\n",
       "      <th></th>\n",
       "      <th>dayofmonth</th>\n",
       "      <th>hour</th>\n",
       "      <th>duration</th>\n",
       "      <th>truncated_NMZ</th>\n",
       "      <th>st_diff_is_zero</th>\n",
       "      <th>dayofweek</th>\n",
       "      <th>plavka_TIPE_GOL</th>\n",
       "      <th>plavka_TIPE_FUR</th>\n",
       "      <th>plavka_NAPR_ZAD</th>\n",
       "      <th>bow_.z0</th>\n",
       "      <th>bow_/Э</th>\n",
       "      <th>bow_/ЭТ</th>\n",
       "      <th>bow_01/</th>\n",
       "      <th>bow_1/Э</th>\n",
       "      <th>bow_2/Э</th>\n",
       "      <th>bow_2M/</th>\n",
       "      <th>bow_3/Э</th>\n",
       "      <th>bow_3пс</th>\n",
       "      <th>bow_C2/</th>\n",
       "      <th>bow_M/Э</th>\n",
       "      <th>bow_P.z</th>\n",
       "      <th>bow_SC2</th>\n",
       "      <th>bow_SP.</th>\n",
       "      <th>bow_z01</th>\n",
       "      <th>bow_Ст3</th>\n",
       "      <th>bow_ЭТ</th>\n",
       "      <th>bow_пс/</th>\n",
       "      <th>bow_с/Э</th>\n",
       "      <th>bow_т3п</th>\n",
       "    </tr>\n",
       "  </thead>\n",
       "  <tbody>\n",
       "    <tr>\n",
       "      <th>0</th>\n",
       "      <td>1</td>\n",
       "      <td>3</td>\n",
       "      <td>2579.0</td>\n",
       "      <td>С255</td>\n",
       "      <td>1</td>\n",
       "      <td>4</td>\n",
       "      <td>0</td>\n",
       "      <td>цилиндрическая</td>\n",
       "      <td>МНЛЗ</td>\n",
       "      <td>0</td>\n",
       "      <td>0</td>\n",
       "      <td>0</td>\n",
       "      <td>0</td>\n",
       "      <td>0</td>\n",
       "      <td>0</td>\n",
       "      <td>0</td>\n",
       "      <td>0</td>\n",
       "      <td>0</td>\n",
       "      <td>0</td>\n",
       "      <td>0</td>\n",
       "      <td>0</td>\n",
       "      <td>0</td>\n",
       "      <td>0</td>\n",
       "      <td>0</td>\n",
       "      <td>0</td>\n",
       "      <td>0</td>\n",
       "      <td>0</td>\n",
       "      <td>0</td>\n",
       "      <td>0</td>\n",
       "    </tr>\n",
       "    <tr>\n",
       "      <th>1</th>\n",
       "      <td>1</td>\n",
       "      <td>4</td>\n",
       "      <td>4004.0</td>\n",
       "      <td>С255</td>\n",
       "      <td>1</td>\n",
       "      <td>4</td>\n",
       "      <td>0</td>\n",
       "      <td>цилиндрическая</td>\n",
       "      <td>МНЛЗ</td>\n",
       "      <td>0</td>\n",
       "      <td>0</td>\n",
       "      <td>0</td>\n",
       "      <td>0</td>\n",
       "      <td>0</td>\n",
       "      <td>0</td>\n",
       "      <td>0</td>\n",
       "      <td>0</td>\n",
       "      <td>0</td>\n",
       "      <td>0</td>\n",
       "      <td>0</td>\n",
       "      <td>0</td>\n",
       "      <td>0</td>\n",
       "      <td>0</td>\n",
       "      <td>0</td>\n",
       "      <td>0</td>\n",
       "      <td>0</td>\n",
       "      <td>0</td>\n",
       "      <td>0</td>\n",
       "      <td>0</td>\n",
       "    </tr>\n",
       "    <tr>\n",
       "      <th>2</th>\n",
       "      <td>1</td>\n",
       "      <td>5</td>\n",
       "      <td>2904.0</td>\n",
       "      <td>Ст3пс/Э</td>\n",
       "      <td>1</td>\n",
       "      <td>4</td>\n",
       "      <td>0</td>\n",
       "      <td>цилиндрическая</td>\n",
       "      <td>Изл</td>\n",
       "      <td>0</td>\n",
       "      <td>1</td>\n",
       "      <td>0</td>\n",
       "      <td>0</td>\n",
       "      <td>0</td>\n",
       "      <td>0</td>\n",
       "      <td>0</td>\n",
       "      <td>0</td>\n",
       "      <td>1</td>\n",
       "      <td>0</td>\n",
       "      <td>0</td>\n",
       "      <td>0</td>\n",
       "      <td>0</td>\n",
       "      <td>0</td>\n",
       "      <td>0</td>\n",
       "      <td>1</td>\n",
       "      <td>0</td>\n",
       "      <td>1</td>\n",
       "      <td>1</td>\n",
       "      <td>1</td>\n",
       "    </tr>\n",
       "    <tr>\n",
       "      <th>3</th>\n",
       "      <td>1</td>\n",
       "      <td>6</td>\n",
       "      <td>3291.0</td>\n",
       "      <td>other</td>\n",
       "      <td>1</td>\n",
       "      <td>4</td>\n",
       "      <td>0</td>\n",
       "      <td>цилиндрическая</td>\n",
       "      <td>Изл</td>\n",
       "      <td>1</td>\n",
       "      <td>0</td>\n",
       "      <td>0</td>\n",
       "      <td>0</td>\n",
       "      <td>0</td>\n",
       "      <td>0</td>\n",
       "      <td>0</td>\n",
       "      <td>0</td>\n",
       "      <td>0</td>\n",
       "      <td>0</td>\n",
       "      <td>0</td>\n",
       "      <td>0</td>\n",
       "      <td>0</td>\n",
       "      <td>0</td>\n",
       "      <td>0</td>\n",
       "      <td>0</td>\n",
       "      <td>0</td>\n",
       "      <td>0</td>\n",
       "      <td>0</td>\n",
       "      <td>0</td>\n",
       "    </tr>\n",
       "    <tr>\n",
       "      <th>4</th>\n",
       "      <td>1</td>\n",
       "      <td>7</td>\n",
       "      <td>2895.0</td>\n",
       "      <td>SC2M/ЭТ</td>\n",
       "      <td>1</td>\n",
       "      <td>4</td>\n",
       "      <td>0</td>\n",
       "      <td>цилиндрическая</td>\n",
       "      <td>МНЛС</td>\n",
       "      <td>0</td>\n",
       "      <td>0</td>\n",
       "      <td>1</td>\n",
       "      <td>0</td>\n",
       "      <td>0</td>\n",
       "      <td>0</td>\n",
       "      <td>1</td>\n",
       "      <td>0</td>\n",
       "      <td>0</td>\n",
       "      <td>0</td>\n",
       "      <td>1</td>\n",
       "      <td>0</td>\n",
       "      <td>1</td>\n",
       "      <td>0</td>\n",
       "      <td>0</td>\n",
       "      <td>0</td>\n",
       "      <td>1</td>\n",
       "      <td>0</td>\n",
       "      <td>0</td>\n",
       "      <td>0</td>\n",
       "    </tr>\n",
       "    <tr>\n",
       "      <th>...</th>\n",
       "      <td>...</td>\n",
       "      <td>...</td>\n",
       "      <td>...</td>\n",
       "      <td>...</td>\n",
       "      <td>...</td>\n",
       "      <td>...</td>\n",
       "      <td>...</td>\n",
       "      <td>...</td>\n",
       "      <td>...</td>\n",
       "      <td>...</td>\n",
       "      <td>...</td>\n",
       "      <td>...</td>\n",
       "      <td>...</td>\n",
       "      <td>...</td>\n",
       "      <td>...</td>\n",
       "      <td>...</td>\n",
       "      <td>...</td>\n",
       "      <td>...</td>\n",
       "      <td>...</td>\n",
       "      <td>...</td>\n",
       "      <td>...</td>\n",
       "      <td>...</td>\n",
       "      <td>...</td>\n",
       "      <td>...</td>\n",
       "      <td>...</td>\n",
       "      <td>...</td>\n",
       "      <td>...</td>\n",
       "      <td>...</td>\n",
       "      <td>...</td>\n",
       "    </tr>\n",
       "    <tr>\n",
       "      <th>2838</th>\n",
       "      <td>29</td>\n",
       "      <td>17</td>\n",
       "      <td>2837.0</td>\n",
       "      <td>other</td>\n",
       "      <td>1</td>\n",
       "      <td>1</td>\n",
       "      <td>2</td>\n",
       "      <td>цилиндрическая</td>\n",
       "      <td>МНЛЗ</td>\n",
       "      <td>0</td>\n",
       "      <td>0</td>\n",
       "      <td>0</td>\n",
       "      <td>0</td>\n",
       "      <td>0</td>\n",
       "      <td>0</td>\n",
       "      <td>0</td>\n",
       "      <td>0</td>\n",
       "      <td>0</td>\n",
       "      <td>0</td>\n",
       "      <td>0</td>\n",
       "      <td>0</td>\n",
       "      <td>0</td>\n",
       "      <td>0</td>\n",
       "      <td>0</td>\n",
       "      <td>1</td>\n",
       "      <td>0</td>\n",
       "      <td>0</td>\n",
       "      <td>0</td>\n",
       "      <td>0</td>\n",
       "    </tr>\n",
       "    <tr>\n",
       "      <th>2839</th>\n",
       "      <td>29</td>\n",
       "      <td>18</td>\n",
       "      <td>2810.0</td>\n",
       "      <td>other</td>\n",
       "      <td>1</td>\n",
       "      <td>1</td>\n",
       "      <td>2</td>\n",
       "      <td>цилиндрическая</td>\n",
       "      <td>МНЛЗ</td>\n",
       "      <td>0</td>\n",
       "      <td>0</td>\n",
       "      <td>0</td>\n",
       "      <td>0</td>\n",
       "      <td>0</td>\n",
       "      <td>0</td>\n",
       "      <td>0</td>\n",
       "      <td>0</td>\n",
       "      <td>0</td>\n",
       "      <td>0</td>\n",
       "      <td>0</td>\n",
       "      <td>0</td>\n",
       "      <td>0</td>\n",
       "      <td>0</td>\n",
       "      <td>0</td>\n",
       "      <td>1</td>\n",
       "      <td>0</td>\n",
       "      <td>0</td>\n",
       "      <td>0</td>\n",
       "      <td>0</td>\n",
       "    </tr>\n",
       "    <tr>\n",
       "      <th>2840</th>\n",
       "      <td>29</td>\n",
       "      <td>18</td>\n",
       "      <td>3498.0</td>\n",
       "      <td>other</td>\n",
       "      <td>1</td>\n",
       "      <td>1</td>\n",
       "      <td>2</td>\n",
       "      <td>цилиндрическая</td>\n",
       "      <td>МНЛЗ</td>\n",
       "      <td>0</td>\n",
       "      <td>0</td>\n",
       "      <td>0</td>\n",
       "      <td>0</td>\n",
       "      <td>0</td>\n",
       "      <td>0</td>\n",
       "      <td>0</td>\n",
       "      <td>0</td>\n",
       "      <td>0</td>\n",
       "      <td>0</td>\n",
       "      <td>0</td>\n",
       "      <td>0</td>\n",
       "      <td>0</td>\n",
       "      <td>0</td>\n",
       "      <td>0</td>\n",
       "      <td>1</td>\n",
       "      <td>0</td>\n",
       "      <td>0</td>\n",
       "      <td>0</td>\n",
       "      <td>0</td>\n",
       "    </tr>\n",
       "    <tr>\n",
       "      <th>2841</th>\n",
       "      <td>29</td>\n",
       "      <td>20</td>\n",
       "      <td>2438.0</td>\n",
       "      <td>other</td>\n",
       "      <td>1</td>\n",
       "      <td>1</td>\n",
       "      <td>2</td>\n",
       "      <td>цилиндрическая</td>\n",
       "      <td>МНЛЗ</td>\n",
       "      <td>0</td>\n",
       "      <td>0</td>\n",
       "      <td>0</td>\n",
       "      <td>0</td>\n",
       "      <td>0</td>\n",
       "      <td>0</td>\n",
       "      <td>0</td>\n",
       "      <td>0</td>\n",
       "      <td>0</td>\n",
       "      <td>0</td>\n",
       "      <td>0</td>\n",
       "      <td>0</td>\n",
       "      <td>0</td>\n",
       "      <td>0</td>\n",
       "      <td>0</td>\n",
       "      <td>1</td>\n",
       "      <td>0</td>\n",
       "      <td>0</td>\n",
       "      <td>0</td>\n",
       "      <td>0</td>\n",
       "    </tr>\n",
       "    <tr>\n",
       "      <th>2842</th>\n",
       "      <td>29</td>\n",
       "      <td>22</td>\n",
       "      <td>2768.0</td>\n",
       "      <td>other</td>\n",
       "      <td>1</td>\n",
       "      <td>1</td>\n",
       "      <td>2</td>\n",
       "      <td>цилиндрическая</td>\n",
       "      <td>МНЛЗ</td>\n",
       "      <td>0</td>\n",
       "      <td>0</td>\n",
       "      <td>0</td>\n",
       "      <td>0</td>\n",
       "      <td>0</td>\n",
       "      <td>0</td>\n",
       "      <td>0</td>\n",
       "      <td>0</td>\n",
       "      <td>0</td>\n",
       "      <td>0</td>\n",
       "      <td>0</td>\n",
       "      <td>0</td>\n",
       "      <td>0</td>\n",
       "      <td>0</td>\n",
       "      <td>0</td>\n",
       "      <td>1</td>\n",
       "      <td>0</td>\n",
       "      <td>0</td>\n",
       "      <td>0</td>\n",
       "      <td>0</td>\n",
       "    </tr>\n",
       "  </tbody>\n",
       "</table>\n",
       "<p>2843 rows × 29 columns</p>\n",
       "</div>"
      ],
      "text/plain": [
       "      dayofmonth  hour  duration    truncated_NMZ  st_diff_is_zero  dayofweek  \\\n",
       "0              1     3    2579.0  С255                           1          4   \n",
       "1              1     4    4004.0  С255                           1          4   \n",
       "2              1     5    2904.0  Ст3пс/Э                        1          4   \n",
       "3              1     6    3291.0            other                1          4   \n",
       "4              1     7    2895.0  SC2M/ЭТ                        1          4   \n",
       "...          ...   ...       ...              ...              ...        ...   \n",
       "2838          29    17    2837.0            other                1          1   \n",
       "2839          29    18    2810.0            other                1          1   \n",
       "2840          29    18    3498.0            other                1          1   \n",
       "2841          29    20    2438.0            other                1          1   \n",
       "2842          29    22    2768.0            other                1          1   \n",
       "\n",
       "      plavka_TIPE_GOL plavka_TIPE_FUR plavka_NAPR_ZAD  bow_.z0  bow_/Э   \\\n",
       "0                   0  цилиндрическая            МНЛЗ        0        0   \n",
       "1                   0  цилиндрическая            МНЛЗ        0        0   \n",
       "2                   0  цилиндрическая             Изл        0        1   \n",
       "3                   0  цилиндрическая             Изл        1        0   \n",
       "4                   0  цилиндрическая            МНЛС        0        0   \n",
       "...               ...             ...             ...      ...      ...   \n",
       "2838                2  цилиндрическая            МНЛЗ        0        0   \n",
       "2839                2  цилиндрическая            МНЛЗ        0        0   \n",
       "2840                2  цилиндрическая            МНЛЗ        0        0   \n",
       "2841                2  цилиндрическая            МНЛЗ        0        0   \n",
       "2842                2  цилиндрическая            МНЛЗ        0        0   \n",
       "\n",
       "      bow_/ЭТ  bow_01/  bow_1/Э  bow_2/Э  bow_2M/  bow_3/Э  bow_3пс  bow_C2/  \\\n",
       "0           0        0        0        0        0        0        0        0   \n",
       "1           0        0        0        0        0        0        0        0   \n",
       "2           0        0        0        0        0        0        1        0   \n",
       "3           0        0        0        0        0        0        0        0   \n",
       "4           1        0        0        0        1        0        0        0   \n",
       "...       ...      ...      ...      ...      ...      ...      ...      ...   \n",
       "2838        0        0        0        0        0        0        0        0   \n",
       "2839        0        0        0        0        0        0        0        0   \n",
       "2840        0        0        0        0        0        0        0        0   \n",
       "2841        0        0        0        0        0        0        0        0   \n",
       "2842        0        0        0        0        0        0        0        0   \n",
       "\n",
       "      bow_M/Э  bow_P.z  bow_SC2  bow_SP.  bow_z01  bow_Ст3  bow_ЭТ   bow_пс/  \\\n",
       "0           0        0        0        0        0        0        0        0   \n",
       "1           0        0        0        0        0        0        0        0   \n",
       "2           0        0        0        0        0        1        0        1   \n",
       "3           0        0        0        0        0        0        0        0   \n",
       "4           1        0        1        0        0        0        1        0   \n",
       "...       ...      ...      ...      ...      ...      ...      ...      ...   \n",
       "2838        0        0        0        0        0        1        0        0   \n",
       "2839        0        0        0        0        0        1        0        0   \n",
       "2840        0        0        0        0        0        1        0        0   \n",
       "2841        0        0        0        0        0        1        0        0   \n",
       "2842        0        0        0        0        0        1        0        0   \n",
       "\n",
       "      bow_с/Э  bow_т3п  \n",
       "0           0        0  \n",
       "1           0        0  \n",
       "2           1        1  \n",
       "3           0        0  \n",
       "4           0        0  \n",
       "...       ...      ...  \n",
       "2838        0        0  \n",
       "2839        0        0  \n",
       "2840        0        0  \n",
       "2841        0        0  \n",
       "2842        0        0  \n",
       "\n",
       "[2843 rows x 29 columns]"
      ]
     },
     "execution_count": 40,
     "metadata": {},
     "output_type": "execute_result"
    }
   ],
   "source": [
    "data[num_features + cat_features]"
   ]
  },
  {
   "cell_type": "code",
   "execution_count": 13,
   "metadata": {},
   "outputs": [
    {
     "data": {
      "text/plain": [
       "NPLV    0\n",
       "TST     0\n",
       "C       2\n",
       "dtype: int64"
      ]
     },
     "execution_count": 13,
     "metadata": {},
     "output_type": "execute_result"
    }
   ],
   "source": [
    "target.isna().sum()"
   ]
  },
  {
   "cell_type": "code",
   "execution_count": 55,
   "metadata": {},
   "outputs": [],
   "source": [
    "data = data.loc[~data[\"NPLV\"].isin([511156, 512299])]"
   ]
  },
  {
   "cell_type": "code",
   "execution_count": 130,
   "metadata": {},
   "outputs": [],
   "source": [
    "from sklearn.compose import ColumnTransformer\n",
    "from sklearn.preprocessing import OneHotEncoder, OrdinalEncoder\n",
    "from sklearn.preprocessing import StandardScaler\n",
    "\n",
    "\n",
    "column_transformer = ColumnTransformer([\n",
    "    ('encoding', OrdinalEncoder(), cat_features),\n",
    "    ('scaling', StandardScaler(), num_features),\n",
    "    #('scaling', 'passthrough', num_features)\n",
    "])\n",
    "\n",
    "train = data.loc[data[\"is_train\"] == 1, cat_features + num_features]\n",
    "test = data.loc[data[\"is_train\"] == 0, cat_features + num_features]\n",
    "\n",
    "column_transformer.fit(train)\n",
    "X_train = column_transformer.transform(train)\n",
    "X_test = column_transformer.transform(test)"
   ]
  },
  {
   "cell_type": "code",
   "execution_count": 72,
   "metadata": {},
   "outputs": [],
   "source": [
    "from sklearn.model_selection import train_test_split"
   ]
  },
  {
   "cell_type": "code",
   "execution_count": 131,
   "metadata": {},
   "outputs": [],
   "source": [
    "train_ids = data[data[\"is_train\"] == 1][\"NPLV\"]\n",
    "test_ids = data[data[\"is_train\"] == 0][\"NPLV\"]"
   ]
  },
  {
   "cell_type": "code",
   "execution_count": 132,
   "metadata": {},
   "outputs": [],
   "source": [
    "c_train = target.set_index(\"NPLV\").loc[train_ids][\"C\"]\n",
    "tst_train = target.set_index(\"NPLV\").loc[train_ids][\"TST\"]"
   ]
  },
  {
   "cell_type": "code",
   "execution_count": 63,
   "metadata": {},
   "outputs": [],
   "source": [
    "# X_train, X_eval, c_train, c_eval, tst_train, tst_eval = train_test_split(X_train, c_train, tst_train, \n",
    "#                                                                         shuffle=True, test_size=0.2)"
   ]
  },
  {
   "cell_type": "code",
   "execution_count": 133,
   "metadata": {},
   "outputs": [
    {
     "data": {
      "text/plain": [
       "(2061,)"
      ]
     },
     "execution_count": 133,
     "metadata": {},
     "output_type": "execute_result"
    }
   ],
   "source": [
    "c_train.shape"
   ]
  },
  {
   "cell_type": "code",
   "execution_count": 90,
   "metadata": {},
   "outputs": [
    {
     "data": {
      "text/plain": [
       "(2061,)"
      ]
     },
     "execution_count": 90,
     "metadata": {},
     "output_type": "execute_result"
    }
   ],
   "source": [
    "tst_train.shape"
   ]
  },
  {
   "cell_type": "code",
   "execution_count": 91,
   "metadata": {},
   "outputs": [
    {
     "data": {
      "text/plain": [
       "(1054, 29)"
      ]
     },
     "execution_count": 91,
     "metadata": {},
     "output_type": "execute_result"
    }
   ],
   "source": [
    "X_train.shape"
   ]
  },
  {
   "cell_type": "code",
   "execution_count": 134,
   "metadata": {},
   "outputs": [],
   "source": [
    "X_train, X_eval = X_train[:int(X_train.shape[0] * 0.8)], X_train[int(X_train.shape[0] * 0.8):]\n",
    "c_train, c_eval = c_train[:int(c_train.shape[0] * 0.8)], c_train[int(c_train.shape[0] * 0.8):]\n",
    "tst_train, tst_eval = tst_train[:int(tst_train.shape[0] * 0.8)], tst_train[int(tst_train.shape[0] * 0.8):]"
   ]
  },
  {
   "cell_type": "code",
   "execution_count": 135,
   "metadata": {},
   "outputs": [],
   "source": [
    "from xgboost import XGBRegressor\n",
    "\n",
    "xgb_c_model = XGBRegressor().fit(X_train, c_train)\n",
    "xgb_tst_model = XGBRegressor().fit(X_train, tst_train)"
   ]
  },
  {
   "cell_type": "code",
   "execution_count": 136,
   "metadata": {},
   "outputs": [],
   "source": [
    "c_pred, tst_pred = c_model.predict(X_eval), tst_model.predict(X_eval)"
   ]
  },
  {
   "cell_type": "code",
   "execution_count": 137,
   "metadata": {},
   "outputs": [],
   "source": [
    "def metric(c_true, tst_true, c_pred, tst_pred):\n",
    "\n",
    "    delta_c = np.abs(c_true - c_pred)\n",
    "    hit_rate_c = np.int64(delta_c < 0.02)\n",
    "\n",
    "    delta_t = np.abs(tst_true - tst_pred)\n",
    "    hit_rate_t = np.int64(delta_t < 20)\n",
    "\n",
    "    N = c_pred.shape[0]\n",
    "    \n",
    "    return np.sum(hit_rate_c) / N, np.sum(hit_rate_t) / N, np.sum(hit_rate_c + hit_rate_t) / 2 / N"
   ]
  },
  {
   "cell_type": "code",
   "execution_count": 138,
   "metadata": {},
   "outputs": [
    {
     "data": {
      "text/plain": [
       "(0.48668280871670705, 0.5302663438256658, 0.5084745762711864)"
      ]
     },
     "execution_count": 138,
     "metadata": {},
     "output_type": "execute_result"
    }
   ],
   "source": [
    "metric(c_eval, tst_eval, c_pred, tst_pred)"
   ]
  },
  {
   "cell_type": "code",
   "execution_count": 148,
   "metadata": {},
   "outputs": [],
   "source": [
    "from sklearn.svm import SVR\n",
    "\n",
    "c_model = SVR().fit(X_train, c_train)\n",
    "tst_model = SVR().fit(X_train, tst_train)"
   ]
  },
  {
   "cell_type": "code",
   "execution_count": 149,
   "metadata": {},
   "outputs": [
    {
     "data": {
      "text/plain": [
       "(0.18401937046004843, 0.576271186440678, 0.3801452784503632)"
      ]
     },
     "execution_count": 149,
     "metadata": {},
     "output_type": "execute_result"
    }
   ],
   "source": [
    "c_pred, tst_pred = c_model.predict(X_eval), tst_model.predict(X_eval)\n",
    "metric(c_eval, tst_eval, c_pred, tst_pred)"
   ]
  },
  {
   "cell_type": "code",
   "execution_count": 139,
   "metadata": {},
   "outputs": [],
   "source": [
    "xgb_test_c = xgb_c_model.predict(X_test)\n",
    "xgb_test_t = xgb_tst_model.predict(X_test)"
   ]
  },
  {
   "cell_type": "code",
   "execution_count": 150,
   "metadata": {},
   "outputs": [],
   "source": [
    "ri_test_c = c_model.predict(X_test)\n",
    "ri_test_t = tst_model.predict(X_test)"
   ]
  },
  {
   "cell_type": "code",
   "execution_count": 144,
   "metadata": {},
   "outputs": [],
   "source": [
    "sample = pd.read_csv(\"../data/sample_submission.csv\")"
   ]
  },
  {
   "cell_type": "code",
   "execution_count": 151,
   "metadata": {},
   "outputs": [],
   "source": [
    "sample[\"TST\"] = ri_test_t\n",
    "sample[\"C\"] = xgb_test_c"
   ]
  },
  {
   "cell_type": "code",
   "execution_count": 153,
   "metadata": {},
   "outputs": [],
   "source": [
    "sample.to_csv(\"baseline.csv\", index=False)"
   ]
  }
 ],
 "metadata": {
  "kernelspec": {
   "display_name": "Python 3 (ipykernel)",
   "language": "python",
   "name": "python3"
  },
  "language_info": {
   "codemirror_mode": {
    "name": "ipython",
    "version": 3
   },
   "file_extension": ".py",
   "mimetype": "text/x-python",
   "name": "python",
   "nbconvert_exporter": "python",
   "pygments_lexer": "ipython3",
   "version": "3.8.10"
  }
 },
 "nbformat": 4,
 "nbformat_minor": 4
}
