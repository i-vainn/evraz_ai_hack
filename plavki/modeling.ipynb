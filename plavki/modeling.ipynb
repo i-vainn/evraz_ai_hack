{
 "cells": [
  {
   "cell_type": "code",
   "execution_count": 1,
   "metadata": {},
   "outputs": [],
   "source": [
    "import pandas as pd\n",
    "import numpy as np\n",
    "import matplotlib.pyplot as plt\n",
    "import seaborn as sns\n",
    "sns.set()\n",
    "\n",
    "pd.set_option('display.max_columns', None)\n",
    "\n",
    "%load_ext autoreload\n",
    "%autoreload 2"
   ]
  },
  {
   "cell_type": "code",
   "execution_count": null,
   "metadata": {},
   "outputs": [],
   "source": [
    "target = pd.read_csv(\"../data/target_train.csv\")\n",
    "sample = pd.read_csv(\"../data/sample_submission.csv\")\n",
    "\n",
    "plavki_train = pd.read_csv(\"../data/plavki_train.csv\")\n",
    "plavki_test = pd.read_csv(\"../data/plavki_test.csv\")\n",
    "\n",
    "gas_train = pd.read_csv(\"../data/gas_train.csv\")\n",
    "gas_test = pd.read_csv(\"../data/gas_test.csv\")\n",
    "\n",
    "chugun_train = pd.read_csv(\"../data/chugun_train.csv\")\n",
    "chugun_test = pd.read_csv(\"../data/chugun_test.csv\")\n",
    "\n",
    "lom_train = pd.read_csv(\"../data/lom_train.csv\")\n",
    "lom_test = pd.read_csv(\"../data/lom_test.csv\")\n",
    "\n",
    "produv_train = pd.read_csv(\"../data/produv_train.csv\")\n",
    "produv_test = pd.read_csv(\"../data/produv_test.csv\")\n",
    "\n",
    "chronom_train = pd.read_csv(\"../data/chronom_train.csv\")\n",
    "chronom_test = pd.read_csv(\"../data/chronom_test.csv\")\n",
    "\n",
    "from pipeline import merge_data\n",
    "\n",
    "params = {\n",
    "    \"chugun\": {},\n",
    "    \"plavki\": {\"bow_count\": 10}\n",
    "}\n",
    "\n",
    "train, test, y, num_features, cat_features = merge_data(\n",
    "    sample, target, plavki_train, plavki_test, gas_train, gas_test, chugun_train, chugun_test, \n",
    "    lom_train, lom_test, produv_train, produv_test, chronom_train, chronom_test, params\n",
    ")"
   ]
  },
  {
   "cell_type": "code",
   "execution_count": 9,
   "metadata": {},
   "outputs": [
    {
     "data": {
      "text/plain": [
       "(array([   0,    1,    2, ..., 2058, 2059, 2060]),\n",
       " array([  17,   37,   40,   57,   59,   60,   65,   79,   80,   93,  123,\n",
       "         126,  140,  142,  150,  166,  167,  186,  187,  192,  195,  205,\n",
       "         212,  215,  216,  220,  231,  241,  253,  260,  280,  305,  307,\n",
       "         308,  328,  336,  353,  365,  371,  387,  396,  426,  427,  430,\n",
       "         434,  463,  470,  474,  477,  493,  494,  495,  499,  513,  536,\n",
       "         543,  547,  549,  552,  572,  599,  604,  646,  650,  671,  710,\n",
       "         731,  741,  743,  764,  769,  798,  802,  817,  826,  847,  854,\n",
       "         864,  879,  885,  896,  898,  902,  917,  928,  983,  991,  995,\n",
       "        1033, 1035, 1039, 1045, 1058, 1062, 1073, 1081, 1082, 1093, 1104,\n",
       "        1117, 1119, 1120, 1135, 1138, 1153, 1156, 1159, 1169, 1182, 1192,\n",
       "        1194, 1195, 1200, 1225, 1232, 1241, 1247, 1255, 1269, 1274, 1285,\n",
       "        1288, 1293, 1296, 1307, 1308, 1314, 1317, 1321, 1328, 1362, 1370,\n",
       "        1379, 1388, 1390, 1394, 1419, 1422, 1444, 1462, 1473, 1477, 1506,\n",
       "        1521, 1523, 1524, 1526, 1550, 1553, 1562, 1579, 1581, 1588, 1590,\n",
       "        1605, 1633, 1641, 1643, 1645, 1655, 1658, 1669, 1670, 1693, 1695,\n",
       "        1696, 1716, 1720, 1725, 1729, 1734, 1740, 1744, 1749, 1766, 1772,\n",
       "        1785, 1800, 1810, 1811, 1812, 1828, 1843, 1853, 1861, 1869, 1875,\n",
       "        1878, 1890, 1893, 1894, 1910, 1914, 1916, 1925, 1930, 1931, 1937,\n",
       "        1941, 1955, 1973, 1991, 2007, 2008, 2024, 2044, 2046]))"
      ]
     },
     "execution_count": 9,
     "metadata": {},
     "output_type": "execute_result"
    }
   ],
   "source": [
    "from sklearn.model_selection import KFold\n",
    "\n",
    "\n",
    "kf = KFold(n_splits=10, shuffle=True)\n",
    "\n"
   ]
  }
 ],
 "metadata": {
  "kernelspec": {
   "display_name": "Python 3 (ipykernel)",
   "language": "python",
   "name": "python3"
  },
  "language_info": {
   "codemirror_mode": {
    "name": "ipython",
    "version": 3
   },
   "file_extension": ".py",
   "mimetype": "text/x-python",
   "name": "python",
   "nbconvert_exporter": "python",
   "pygments_lexer": "ipython3",
   "version": "3.8.10"
  }
 },
 "nbformat": 4,
 "nbformat_minor": 4
}
